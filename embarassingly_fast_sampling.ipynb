{
 "cells": [
  {
   "cell_type": "markdown",
   "metadata": {},
   "source": [
    "# Embarassingly fast random subset sampling\n",
    "Imagine we have an array. And a very large one. And we want to get large number of consecutive random samples from it, ideally such that the number of repeating elements will be as least as possible. The samples are generally much \n",
    "\n",
    "The naive approache would be to use `numpy.random.choice` every time we want to get a sample, but for really large arrays consisting of millions of elements this method:\n",
    "* Turns out to be really slow\n",
    "* Provides large number of collisions (duplicate draws form the array)\n",
    "\n",
    "The code below provides optimized solution for this kind of problem, giving speedups in the order of 100000 when compared to naive solution.\n",
    "\n",
    "A companion code for my Medium post."
   ]
  },
  {
   "cell_type": "markdown",
   "metadata": {},
   "source": [
    "## Algorithm\n",
    "\n",
    "`numpy.random.choice` shuffles array each time we call it. Since in most cases with large arrays the sample size is much lower than the array size we can optimize by shufflig it only when strictly necessary. This will also reduce the number of collisions for arrays with non-repeating elements."
   ]
  },
  {
   "cell_type": "code",
   "execution_count": 314,
   "metadata": {
    "ExecuteTime": {
     "end_time": "2017-10-06T09:08:34.448244Z",
     "start_time": "2017-10-06T09:08:34.384937Z"
    },
    "collapsed": true
   },
   "outputs": [],
   "source": [
    "import numpy as np\n",
    "from collections import Counter\n",
    "from tqdm import tqdm\n",
    "\n",
    "def get_sample(arr, n_iter=None, sample_size=10, \n",
    "               fast=True):\n",
    "    \"\"\"Get random sample from arr.\n",
    "    \n",
    "    Parameters\n",
    "    ----------\n",
    "    arr: np.array\n",
    "        array to sample from.\n",
    "    n_iter: int\n",
    "        current iteration number.\n",
    "    sample_size: int\n",
    "        sample size\n",
    "    fast: bool\n",
    "        use sampling optimized for fast consecutive samples \n",
    "        from the same array.\n",
    "    \n",
    "    Returns\n",
    "    -------\n",
    "    sample: np.array\n",
    "        sample from arr of length n_iter.\n",
    "    \"\"\"\n",
    "    if fast:\n",
    "        # find the index we last sampled from\n",
    "        start_idx = (n_iter * sample_size) % n\n",
    "        if start_idx + sample_size >= n:\n",
    "            # shuffle array if we have reached the end and repeat again\n",
    "            np.random.shuffle(arr)\n",
    "            \n",
    "        return arr[start_idx:start_idx+sample_size] \n",
    "    else:\n",
    "        return np.random.choice(arr, sample_size, replace=False)\n",
    "    \n",
    "def collect_samples(arr,\n",
    "                    sample_size,\n",
    "                    n_samples,\n",
    "                    fast=False):\n",
    "    \"\"\"\n",
    "    Collect several samples from arr.\n",
    "    \n",
    "    Parameters\n",
    "    ----------\n",
    "    arr: np.array\n",
    "        array to sample from.\n",
    "    sample_size: int\n",
    "        sample size.\n",
    "    n_samples: int\n",
    "        number of samples to take.\n",
    "    fast: bool\n",
    "        use sampling optimized for fast consecutive samples \n",
    "        from the same array.\n",
    "    \n",
    "    Returns\n",
    "    -------\n",
    "    samples: np.ndarray\n",
    "        sample matrix of shape (n_samples, sample_size)\n",
    "    \"\"\"\n",
    "    samples = np.zeros((n_samples + 1, sample_size), np.int32)\n",
    "    \n",
    "    for sample_n in range(0, n_samples):\n",
    "        sample = get_sample(arr, \n",
    "                            n_iter=sample_n,\n",
    "                            sample_size=sample_size,\n",
    "                            fast=fast)\n",
    "        samples[sample_n] = sample\n",
    "        \n",
    "    return samples\n",
    "\n",
    "def collect_collisions(arr, sample_size, n_samples, \n",
    "                       fast=False):\n",
    "    \"\"\"Collect total number of collisions made for each sample of arr.\n",
    "    \n",
    "    Parameters\n",
    "    ----------\n",
    "    arr: np.array\n",
    "        array to sample from.\n",
    "    sample_size: int\n",
    "        sample size.\n",
    "    n_samples: int\n",
    "        number of samples to take.\n",
    "    fast: bool\n",
    "        use sampling optimized for fast consecutive samples \n",
    "        from the same array.\n",
    "    \n",
    "    Returns\n",
    "    -------\n",
    "    collisions: np.array\n",
    "        collision number for each sample taken\n",
    "    \"\"\"\n",
    "    samples = collect_samples(arr, \n",
    "                              sample_size,\n",
    "                              n_samples,\n",
    "                              fast=fast).flatten()\n",
    "    \n",
    "    # count collisions for *all* numbers we have sampled\n",
    "    counts = Counter(samples)\n",
    "    collision_sum = sum([count for k, count in counts.items() if count > 1])\n",
    "    \n",
    "    return collision_sum\n"
   ]
  },
  {
   "cell_type": "code",
   "execution_count": 336,
   "metadata": {
    "ExecuteTime": {
     "end_time": "2017-10-08T12:42:30.995484Z",
     "start_time": "2017-10-08T12:42:27.604951Z"
    }
   },
   "outputs": [
    {
     "name": "stderr",
     "output_type": "stream",
     "text": [
      "Collecting sample statistics: 100%|██████████| 500/500 [00:03<00:00, 148.11it/s]\n"
     ]
    }
   ],
   "source": [
    "n = 10000\n",
    "\n",
    "choice_num = []\n",
    "fast_num = []\n",
    "for i in tqdm(range(0, 500), desc=\"Collecting sample statistics\"):\n",
    "    arr = np.array([i for i in range(n)])\n",
    "    # copy arrays so all experiments will be isolated in terms of array shuffling \n",
    "    arr_fast = arr.copy()\n",
    "    collisions = collect_collisions(arr, 1000, 10, fast=False)\n",
    "    collisions_fast = collect_collisions(arr_fast, 1000, 10, fast=True)\n",
    "    choice_num.append(collisions)\n",
    "    fast_num.append(collisions_fast)"
   ]
  },
  {
   "cell_type": "markdown",
   "metadata": {},
   "source": [
    "Let's see if collision numbers differ significantly by performing the t-test"
   ]
  },
  {
   "cell_type": "code",
   "execution_count": 337,
   "metadata": {
    "ExecuteTime": {
     "end_time": "2017-10-08T12:42:32.411389Z",
     "start_time": "2017-10-08T12:42:32.397565Z"
    }
   },
   "outputs": [
    {
     "name": "stdout",
     "output_type": "stream",
     "text": [
      "choice sampling vs fast sampling significant: True, p = 0.0\n"
     ]
    }
   ],
   "source": [
    "from scipy.stats import ttest_rel \n",
    "\n",
    "# We must do depentent t-test since all statistics were collected from the \n",
    "# same array\n",
    "ch_fast_test = ttest_rel(choice_num, fast_num)\n",
    "print(f\"choice sampling vs fast sampling significant: {ch_fast_test.pvalue < 0.05}, p = {ch_fast_test.pvalue}\")"
   ]
  },
  {
   "cell_type": "code",
   "execution_count": 338,
   "metadata": {
    "ExecuteTime": {
     "end_time": "2017-10-08T12:42:45.167503Z",
     "start_time": "2017-10-08T12:42:45.162373Z"
    }
   },
   "outputs": [
    {
     "data": {
      "text/plain": [
       "(7125.71, 2800.9960000000001)"
      ]
     },
     "execution_count": 338,
     "metadata": {},
     "output_type": "execute_result"
    }
   ],
   "source": [
    "np.mean(choice_num), np.mean(fast_num)"
   ]
  },
  {
   "cell_type": "code",
   "execution_count": 335,
   "metadata": {
    "ExecuteTime": {
     "end_time": "2017-10-08T11:54:14.644440Z",
     "start_time": "2017-10-08T11:54:14.326392Z"
    }
   },
   "outputs": [
    {
     "data": {
      "text/plain": [
       "<matplotlib.text.Text at 0x11c27c3c8>"
      ]
     },
     "execution_count": 335,
     "metadata": {},
     "output_type": "execute_result"
    },
    {
     "data": {
      "image/png": "[encoded data removed]",
      "text/plain": [
       "<matplotlib.figure.Figure at 0x11bb36358>"
      ]
     },
     "metadata": {},
     "output_type": "display_data"
    }
   ],
   "source": [
    "import seaborn as sns\n",
    "import matplotlib.pyplot as plt\n",
    "%matplotlib inline\n",
    "\n",
    "fig, ax = plt.subplots(figsize=(12,8),sharey=True)\n",
    "sns.despine(left=True)\n",
    "sns.distplot(choice_num, ax=ax)\n",
    "sns.distplot(fast_num, ax=ax)\n",
    "ax.set_title(\"Collision count distributions\")"
   ]
  },
  {
   "cell_type": "markdown",
   "metadata": {},
   "source": [
    "## Benchmarks\n",
    "Let's do some benchmarks on a large array"
   ]
  },
  {
   "cell_type": "code",
   "execution_count": 326,
   "metadata": {
    "ExecuteTime": {
     "end_time": "2017-10-06T09:09:35.570395Z",
     "start_time": "2017-10-06T09:09:35.109439Z"
    },
    "collapsed": true
   },
   "outputs": [],
   "source": [
    "n = 3000000\n",
    "arr = np.array([i for i in range(n)]).astype(np.int64)"
   ]
  },
  {
   "cell_type": "code",
   "execution_count": 327,
   "metadata": {
    "ExecuteTime": {
     "end_time": "2017-10-06T09:09:47.798934Z",
     "start_time": "2017-10-06T09:09:36.553489Z"
    }
   },
   "outputs": [
    {
     "name": "stdout",
     "output_type": "stream",
     "text": [
      "1.39 s ± 122 ms per loop (mean ± std. dev. of 7 runs, 1 loop each)\n"
     ]
    }
   ],
   "source": [
    "%timeit collect_samples(arr, 1000, 10, fast=False)"
   ]
  },
  {
   "cell_type": "code",
   "execution_count": 328,
   "metadata": {
    "ExecuteTime": {
     "end_time": "2017-10-06T09:09:49.689088Z",
     "start_time": "2017-10-06T09:09:47.905209Z"
    },
    "scrolled": true
   },
   "outputs": [
    {
     "name": "stdout",
     "output_type": "stream",
     "text": [
      "21.1 µs ± 979 ns per loop (mean ± std. dev. of 7 runs, 10000 loops each)\n"
     ]
    }
   ],
   "source": [
    "%timeit collect_samples(arr, 1000, 10, fast=True)"
   ]
  },
  {
   "cell_type": "markdown",
   "metadata": {},
   "source": [
    "Great speedup, from seconds to microseconds! But can we do better? Using Cython and compiling everything to native code could help, so let's try it."
   ]
  },
  {
   "cell_type": "code",
   "execution_count": 198,
   "metadata": {
    "ExecuteTime": {
     "end_time": "2017-10-06T07:35:12.206337Z",
     "start_time": "2017-10-06T07:35:12.200904Z"
    }
   },
   "outputs": [
    {
     "name": "stdout",
     "output_type": "stream",
     "text": [
      "The Cython extension is already loaded. To reload it, use:\n",
      "  %reload_ext Cython\n"
     ]
    }
   ],
   "source": [
    "%load_ext Cython"
   ]
  },
  {
   "cell_type": "code",
   "execution_count": 329,
   "metadata": {
    "ExecuteTime": {
     "end_time": "2017-10-06T09:09:58.716615Z",
     "start_time": "2017-10-06T09:09:56.274312Z"
    },
    "collapsed": true
   },
   "outputs": [],
   "source": [
    "%%cython \n",
    "import numpy as np\n",
    "cimport numpy as np\n",
    "cimport cython # so we can use cython decorators\n",
    "from cpython cimport bool # type annotation for boolean\n",
    "\n",
    "# disable index bounds checking and negative indexing for speedups\n",
    "@cython.wraparound(False)\n",
    "@cython.boundscheck(False)\n",
    "cdef cython_get_sample(np.ndarray arr, arr_len, n_iter, int sample_size, \n",
    "               bool fast):\n",
    "    cdef int start_idx\n",
    "    if fast:\n",
    "        start_idx = (n_iter * sample_size) % arr_len\n",
    "        if start_idx + sample_size >= arr_len:\n",
    "            np.random.shuffle(arr)\n",
    "            \n",
    "        return arr[start_idx:start_idx+sample_size] \n",
    "    else:\n",
    "        return np.random.choice(arr, sample_size, replace=False)\n",
    "\n",
    "@cython.wraparound(False)\n",
    "@cython.boundscheck(False)\n",
    "def cython_collect_samples(np.ndarray arr,\n",
    "                    int sample_size,\n",
    "                    int n_samples,\n",
    "                    bool fast=False):\n",
    "    \n",
    "    cdef np.ndarray samples\n",
    "    cdef int arr_len\n",
    "    cdef int sample_len\n",
    "    cdef np.ndarray sample\n",
    "    samples = np.zeros((n_samples + 1, sample_size), np.int64)\n",
    "    arr_len = len(arr)\n",
    "    \n",
    "    for sample_n in range(0, n_samples):\n",
    "        sample = cython_get_sample(arr, arr_len, sample_n,\n",
    "                            sample_size,\n",
    "                            fast)\n",
    "        samples[sample_n] = sample\n",
    "        \n",
    "    return samples"
   ]
  },
  {
   "cell_type": "code",
   "execution_count": 330,
   "metadata": {
    "ExecuteTime": {
     "end_time": "2017-10-06T09:10:12.261925Z",
     "start_time": "2017-10-06T09:10:01.518811Z"
    }
   },
   "outputs": [
    {
     "name": "stdout",
     "output_type": "stream",
     "text": [
      "13.2 µs ± 213 ns per loop (mean ± std. dev. of 7 runs, 100000 loops each)\n"
     ]
    }
   ],
   "source": [
    "%timeit cython_collect_samples(arr, 1000, 10, fast=True)"
   ]
  },
  {
   "cell_type": "markdown",
   "metadata": {},
   "source": [
    "Almost 2 times faster compared to plain python code. Have fun!"
   ]
  }
 ],
 "metadata": {
  "kernelspec": {
   "display_name": "Python 3",
   "language": "python",
   "name": "python3"
  },
  "language_info": {
   "codemirror_mode": {
    "name": "ipython",
    "version": 3
   },
   "file_extension": ".py",
   "mimetype": "text/x-python",
   "name": "python",
   "nbconvert_exporter": "python",
   "pygments_lexer": "ipython3",
   "version": "3.6.2"
  },
  "varInspector": {
   "cols": {
    "lenName": 16,
    "lenType": 16,
    "lenVar": 40
   },
   "kernels_config": {
    "python": {
     "delete_cmd_postfix": "",
     "delete_cmd_prefix": "del ",
     "library": "var_list.py",
     "varRefreshCmd": "print(var_dic_list())"
    },
    "r": {
     "delete_cmd_postfix": ") ",
     "delete_cmd_prefix": "rm(",
     "library": "var_list.r",
     "varRefreshCmd": "cat(var_dic_list()) "
    }
   },
   "types_to_exclude": [
    "module",
    "function",
    "builtin_function_or_method",
    "instance",
    "_Feature"
   ],
   "window_display": false
  }
 },
 "nbformat": 4,
 "nbformat_minor": 2
}
